{
 "cells": [
  {
   "cell_type": "code",
   "execution_count": 1,
   "metadata": {
    "collapsed": true,
    "ExecuteTime": {
     "end_time": "2024-12-21T17:01:41.474760400Z",
     "start_time": "2024-12-21T17:01:39.542758400Z"
    }
   },
   "outputs": [],
   "source": [
    "import pandas as pd\n",
    "from langdetect import detect, DetectorFactory\n",
    "from langdetect.lang_detect_exception import LangDetectException\n",
    "DetectorFactory.seed = 0\n",
    "\n",
    "def detect_language(text):\n",
    "    try:\n",
    "        return detect(text)\n",
    "    except LangDetectException:\n",
    "        return 'unknown'"
   ]
  },
  {
   "cell_type": "code",
   "execution_count": 2,
   "outputs": [],
   "source": [
    "df = pd.read_csv(\"cleaned_train_split_2_Ambra.csv\")"
   ],
   "metadata": {
    "collapsed": false,
    "ExecuteTime": {
     "end_time": "2024-12-21T17:01:52.768717200Z",
     "start_time": "2024-12-21T17:01:49.442357400Z"
    }
   }
  },
  {
   "cell_type": "code",
   "execution_count": 3,
   "outputs": [],
   "source": [
    "df['language'] = df['cleaned_text'].apply(detect_language)"
   ],
   "metadata": {
    "collapsed": false,
    "ExecuteTime": {
     "end_time": "2024-12-21T17:06:11.455937400Z",
     "start_time": "2024-12-21T17:01:56.108284900Z"
    }
   }
  },
  {
   "cell_type": "code",
   "execution_count": 4,
   "outputs": [
    {
     "name": "stdout",
     "output_type": "stream",
     "text": [
      "language\n",
      "en    13311\n",
      "de      427\n",
      "nl      195\n",
      "fr      158\n",
      "hr      156\n",
      "it      124\n",
      "fi      110\n",
      "ro      105\n",
      "es       90\n",
      "el       89\n",
      "sv       89\n",
      "da       88\n",
      "pt       79\n",
      "no       76\n",
      "bg       46\n",
      "pl       43\n",
      "hu       38\n",
      "tr       36\n",
      "cs       26\n",
      "sl       19\n",
      "lt       13\n",
      "et       11\n",
      "ru        8\n",
      "sk        7\n",
      "sq        5\n",
      "ca        2\n",
      "Name: count, dtype: int64\n"
     ]
    }
   ],
   "source": [
    "print(df['language'].value_counts())"
   ],
   "metadata": {
    "collapsed": false,
    "ExecuteTime": {
     "end_time": "2024-12-21T17:07:04.526868300Z",
     "start_time": "2024-12-21T17:07:04.476122500Z"
    }
   }
  },
  {
   "cell_type": "code",
   "execution_count": 10,
   "outputs": [],
   "source": [
    "df['english'] = df['language'].apply(lambda x: 1 if x == 'en' else 0)\n",
    "df.to_csv(\"cleaned_train_split_2_Ambra_with_language_labels.csv\", index=False)"
   ],
   "metadata": {
    "collapsed": false,
    "ExecuteTime": {
     "end_time": "2024-12-21T17:34:24.918789200Z",
     "start_time": "2024-12-21T17:34:20.416569300Z"
    }
   }
  },
  {
   "cell_type": "markdown",
   "source": [
    "We will now proceed with the following replacements:\n",
    "- Replace foreign words in English posts with the code: `RPLCMNT_FRGNWRD`\n",
    "- Replace non-English posts with the code: `RPLCMNT_NNGLSH`"
   ],
   "metadata": {
    "collapsed": false
   }
  },
  {
   "cell_type": "code",
   "execution_count": 6,
   "outputs": [],
   "source": [
    "# Creating the replacement column\n",
    "df['replacement'] = df['english'].apply(lambda x: 'null' if x == 1 else 'RPLCMNT_NNGLSH')"
   ],
   "metadata": {
    "collapsed": false,
    "ExecuteTime": {
     "end_time": "2024-12-21T17:25:54.123509Z",
     "start_time": "2024-12-21T17:25:54.107774300Z"
    }
   }
  },
  {
   "cell_type": "code",
   "execution_count": 1,
   "outputs": [
    {
     "name": "stderr",
     "output_type": "stream",
     "text": [
      "Downloading LanguageTool 6.4: 100%|██████████| 246M/246M [00:09<00:00, 26.5MB/s] \n",
      "Unzipping C:\\Users\\gvesc\\AppData\\Local\\Temp\\tmpk07ei391.zip to C:\\Users\\gvesc\\.cache\\language_tool_python.\n",
      "Downloaded https://www.languagetool.org/download/LanguageTool-6.4.zip to C:\\Users\\gvesc\\.cache\\language_tool_python.\n"
     ]
    }
   ],
   "source": [
    "import language_tool_python\n",
    "import pandas as pd\n",
    "df = pd.read_csv(\"cleaned_train_split_2_Ambra_with_language_labels.csv\")\n",
    "tool = language_tool_python.LanguageTool('en-US')\n",
    "\n",
    "\n",
    "# Correcting the grammar in a post\n",
    "def correct_grammar(text):\n",
    "    return tool.correct(text)\n",
    "\n",
    "\n",
    "def grammar_correction(row):\n",
    "    if row['english'] == 1:\n",
    "        return correct_grammar(row['cleaned_text'])\n",
    "    else:\n",
    "        return 'null'\n",
    "# Creating the grammar corrected column\n",
    "df['grammar_corrected_text'] = df.apply(grammar_correction, axis=1)\n",
    "\n",
    "df.to_csv(\"cleaned_train_split_2_Ambra_with_grammar_correction.csv\", index=False)"
   ],
   "metadata": {
    "collapsed": false,
    "ExecuteTime": {
     "end_time": "2024-12-22T00:45:09.813716Z",
     "start_time": "2024-12-21T17:35:36.811906300Z"
    }
   }
  },
  {
   "cell_type": "code",
   "execution_count": 1,
   "outputs": [],
   "source": [
    "import pandas as pd\n",
    "\n",
    "# Load the CSV file\n",
    "data = pd.read_csv(\"cleaned_train_split_2_Ambra_with_grammar_correction.csv\")\n",
    "\n",
    "# Replace null values in 'grammar_corrected_text' with values from 'cleaned_text'\n",
    "data['grammar_corrected_text'] = data['grammar_corrected_text'].fillna(data['cleaned_text'])\n",
    "\n",
    "# Save the modified DataFrame back to the same CSV file\n",
    "data.to_csv(\"cleaned_train_split_2_Ambra_with_grammar_correction.csv\", index=False)\n"
   ],
   "metadata": {
    "collapsed": false,
    "ExecuteTime": {
     "end_time": "2024-12-30T16:56:38.704479Z",
     "start_time": "2024-12-30T16:56:26.514325700Z"
    }
   }
  },
  {
   "cell_type": "code",
   "execution_count": 2,
   "outputs": [
    {
     "name": "stdout",
     "output_type": "stream",
     "text": [
      "Index(['Unnamed: 0', 'auhtor_ID', 'post', 'nationality', 'cleaned_text',\n",
      "       'original_word_count', 'cleaned_word_count', 'word_count_difference',\n",
      "       'language', 'english', 'replacement', 'grammar_corrected_text'],\n",
      "      dtype='object')\n"
     ]
    }
   ],
   "source": [
    "import pandas as pd\n",
    "\n",
    "df = pd.read_csv(\"cleaned_train_split_2_Ambra_with_grammar_correction.csv\")\n",
    "print(df.columns)"
   ],
   "metadata": {
    "collapsed": false,
    "ExecuteTime": {
     "end_time": "2024-12-26T00:11:03.909856600Z",
     "start_time": "2024-12-26T00:10:59.605901800Z"
    }
   }
  },
  {
   "cell_type": "code",
   "execution_count": 3,
   "outputs": [
    {
     "name": "stderr",
     "output_type": "stream",
     "text": [
      "[nltk_data] Downloading package wordnet to\n",
      "[nltk_data]     C:\\Users\\gvesc\\AppData\\Roaming\\nltk_data...\n",
      "[nltk_data]   Package wordnet is already up-to-date!\n"
     ]
    },
    {
     "name": "stdout",
     "output_type": "stream",
     "text": [
      "Columns before processing: Index(['Unnamed: 0', 'auhtor_ID', 'post', 'nationality', 'cleaned_text',\n",
      "       'original_word_count', 'cleaned_word_count', 'word_count_difference',\n",
      "       'language', 'english', 'replacement', 'grammar_corrected_text'],\n",
      "      dtype='object')\n",
      "Columns after processing: Index(['Unnamed: 0', 'auhtor_ID', 'post', 'nationality', 'cleaned_text',\n",
      "       'original_word_count', 'cleaned_word_count', 'word_count_difference',\n",
      "       'language', 'english', 'replacement', 'grammar_corrected_text'],\n",
      "      dtype='object')\n"
     ]
    }
   ],
   "source": [
    "# import pandas as pd\n",
    "# import nltk\n",
    "# from nltk.corpus import wordnet\n",
    "# import spacy\n",
    "# import re\n",
    "#\n",
    "# # Loading SpaCy English language model\n",
    "# nlp = spacy.load(\"en_core_web_sm\")\n",
    "# # Ensure to run: python -m spacy download en_core_web_sm\n",
    "# # Downloading WordNet data\n",
    "# nltk.download(\"wordnet\")\n",
    "#\n",
    "# # Adding common internet acronyms\n",
    "# internet_acronyms = {\n",
    "#     \"lol\", \"brb\", \"omg\", \"idk\", \"btw\", \"smh\", \"imo\", \"fyi\", \"tbh\", \"irl\", \"np\",\n",
    "#     \"thx\", \"jk\", \"omw\", \"rofl\", \"wtf\", \"afaik\", \"asap\", \"bff\", \"ftw\", \"lmao\",\n",
    "#     \"ngl\", \"nsfw\", \"tl;dr\", \"dm\", \"rt\", \"pm\", \"gg\", \"wp\", \"faq\"\n",
    "# }\n",
    "#\n",
    "# # Defining replacement code\n",
    "# FOREIGN_WORD_CODE = \"RPLCMNT_FRGNWRD\"\n",
    "#\n",
    "# # Checking if a word is valid English\n",
    "# def is_english_word(word):\n",
    "#     # Check if the word exists in WordNet\n",
    "#     if wordnet.synsets(word.lower()):\n",
    "#         return True\n",
    "#     # Use SpaCy to check if the word is English\n",
    "#     doc = nlp(word)\n",
    "#     if doc[0].is_alpha and doc[0].lang_ == \"en\":\n",
    "#         return True\n",
    "#     # Check against internet acronyms\n",
    "#     if word.lower() in internet_acronyms:\n",
    "#         return True\n",
    "#     return False\n",
    "#\n",
    "# # Detecting and replacing foreign words\n",
    "# def detect_and_replace(row):\n",
    "#     # Ensure the necessary columns exist\n",
    "#     if 'grammar_corrected_text' not in row or 'cleaned_text' not in row or 'english' not in row:\n",
    "#         raise KeyError(\"One or more required columns are missing: 'grammar_corrected_text', 'cleaned_text', 'english'\")\n",
    "#\n",
    "#     if row['english'] == 1:  # Processing only English rows\n",
    "#         corrected_words = re.findall(r'\\b\\w+\\b', row['grammar_corrected_text'])\n",
    "#         cleaned_words = re.findall(r'\\b\\w+\\b', row['cleaned_text'])\n",
    "#\n",
    "#         # Identifying foreign words\n",
    "#         foreign_words = set()\n",
    "#         for i, word in enumerate(corrected_words):\n",
    "#             if word.isdigit():  # Skipping numbers\n",
    "#                 continue\n",
    "#             if i > 0 and word[0].isupper():  # Skipping proper nouns mid-sentence\n",
    "#                 continue\n",
    "#             if is_english_word(word):\n",
    "#                 continue\n",
    "#             foreign_words.add(word)\n",
    "#\n",
    "#         # Replacing in cleaned_text\n",
    "#         replaced_text = [\n",
    "#             FOREIGN_WORD_CODE if word in foreign_words else word for word in cleaned_words\n",
    "#         ]\n",
    "#         return ' '.join(replaced_text)\n",
    "#     else:\n",
    "#         return \"RPLCMNT_NNGLSH\"  # Handling non-English rows\n",
    "#\n",
    "# # Verifying the presence of required columns\n",
    "# required_columns = ['grammar_corrected_text', 'cleaned_text', 'english']\n",
    "# missing_columns = [col for col in required_columns if col not in df.columns]\n",
    "# if missing_columns:\n",
    "#     raise KeyError(f\"The following required columns are missing from the DataFrame: {missing_columns}\")\n",
    "#\n",
    "# # Verifying columns before processing\n",
    "# print(\"Columns before processing:\", df.columns)\n",
    "#\n",
    "# # Applying replacement logic\n",
    "# df['replacement'] = df.apply(detect_and_replace, axis=1)\n",
    "#\n",
    "# # Verifying columns after processing\n",
    "# print(\"Columns after processing:\", df.columns)\n",
    "#\n",
    "# # Saving updated dataset\n",
    "# df.to_csv(\"cleaned_train_split_2_Ambra_exp3_optimized.csv\", index=False)\n"
   ],
   "metadata": {
    "collapsed": false,
    "ExecuteTime": {
     "end_time": "2024-12-26T03:25:17.779374800Z",
     "start_time": "2024-12-26T00:11:11.121584500Z"
    }
   }
  },
  {
   "cell_type": "code",
   "execution_count": 4,
   "outputs": [
    {
     "data": {
      "text/plain": "       Unnamed: 0    auhtor_ID  \\\n0               0  t2_1e98hr7q   \n1               1  t2_raxhwbba   \n2               2  t2_3fw68gzc   \n3               3  t2_qxtt1jsp   \n4               4  t2_10jg8ipm   \n...           ...          ...   \n15346       15346  t2_422adf8q   \n15347       15347   t2_ofl1u5f   \n15348       15348     t2_3edl7   \n15349       15349     t2_au7t1   \n15350       15350     t2_ku2v4   \n\n                                                    post      nationality  \\\n0      paperclip een heel eind. Ik heb het tot nu toe...  The Netherlands   \n1      2: Band of Thieves. Sly 3: Honour Among Thieve...   United Kingdom   \n2      фалшиви и ги забраниха. След ден затвориха и л...         Bulgaria   \n3      it the Critical Drinker who did it? Cartoon? L...         Portugal   \n4      showarok nolo'atli Won apa-te kwo'atli sho asi...            Spain   \n...                                                  ...              ...   \n15346  Wenn bis zum Ausbruch der hypothetischen Epsil...          Austria   \n15347  was handed to them, that is then dropped by th...          Romania   \n15348  experience this when you do assembly programmi...          Germany   \n15349  us for a while now (such as [this](url from 20...   United Kingdom   \n15350  better thing is just to tilt it a bit to the s...          Ireland   \n\n                                            cleaned_text  original_word_count  \\\n0      paperclip een heel eind. Ik heb het tot nu toe...                 1500   \n1      2: Band of Thieves. Sly 3: Honour Among Thieve...                 1500   \n2      фалшиви и ги забраниха. След ден затвориха и л...                 1500   \n3      it the Critical Drinker who did it? Cartoon? L...                  539   \n4      showarok nolo'atli Won apa-te kwo'atli sho asi...                 1500   \n...                                                  ...                  ...   \n15346  Wenn bis zum Ausbruch der hypothetischen Epsil...                 1500   \n15347  was handed to them, that is then dropped by th...                 1500   \n15348  experience this when you do assembly programmi...                 1500   \n15349  us for a while now (such as [this]( from 2018)...                 1500   \n15350  better thing is just to tilt it a bit to the s...                 1500   \n\n       cleaned_word_count  word_count_difference language  english  \\\n0                    1472                     28       nl        0   \n1                    1481                     19       en        1   \n2                    1493                      7       en        1   \n3                     521                     18       en        1   \n4                    1489                     11       en        1   \n...                   ...                    ...      ...      ...   \n15346                1489                     11       de        0   \n15347                1484                     16       en        1   \n15348                1465                     35       en        1   \n15349                1481                     19       en        1   \n15350                1498                      2       en        1   \n\n                                             replacement  \\\n0                                         RPLCMNT_NNGLSH   \n1      2 Band of Thieves Sly 3 Honour Among Thieves R...   \n2      фалшиви и ги забраниха След ден затвориха и ла...   \n3      it the Critical Drinker who did it Cartoon Lol...   \n4      showarok nolo atli Won apa te kwo atli sho asi...   \n...                                                  ...   \n15346                                     RPLCMNT_NNGLSH   \n15347  was handed to them that is then dropped by the...   \n15348  experience this when you do assembly programmi...   \n15349  us for a while now such as this from 2018 I ve...   \n15350  better thing is just to tilt it a bit to the s...   \n\n                                  grammar_corrected_text  \n0                                                    NaN  \n1      2: Band of Thieves. Sly 3: Honor Among Thieves...  \n2      Фалшиви и ги забраниха. След ден затвориха и л...  \n3      It the Critical Drinker who did it? Cartoon? L...  \n4      Showarok solo'tali Won apart quo'tali who Asia...  \n...                                                  ...  \n15346                                                NaN  \n15347  Was handed to them, that is then dropped by th...  \n15348  Experience this when you do assembly programmi...  \n15349  Us for a while now (such as [this](from 2018)....  \n15350  Better thing is just to tilt it a bit to the s...  \n\n[15351 rows x 12 columns]",
      "text/html": "<div>\n<style scoped>\n    .dataframe tbody tr th:only-of-type {\n        vertical-align: middle;\n    }\n\n    .dataframe tbody tr th {\n        vertical-align: top;\n    }\n\n    .dataframe thead th {\n        text-align: right;\n    }\n</style>\n<table border=\"1\" class=\"dataframe\">\n  <thead>\n    <tr style=\"text-align: right;\">\n      <th></th>\n      <th>Unnamed: 0</th>\n      <th>auhtor_ID</th>\n      <th>post</th>\n      <th>nationality</th>\n      <th>cleaned_text</th>\n      <th>original_word_count</th>\n      <th>cleaned_word_count</th>\n      <th>word_count_difference</th>\n      <th>language</th>\n      <th>english</th>\n      <th>replacement</th>\n      <th>grammar_corrected_text</th>\n    </tr>\n  </thead>\n  <tbody>\n    <tr>\n      <th>0</th>\n      <td>0</td>\n      <td>t2_1e98hr7q</td>\n      <td>paperclip een heel eind. Ik heb het tot nu toe...</td>\n      <td>The Netherlands</td>\n      <td>paperclip een heel eind. Ik heb het tot nu toe...</td>\n      <td>1500</td>\n      <td>1472</td>\n      <td>28</td>\n      <td>nl</td>\n      <td>0</td>\n      <td>RPLCMNT_NNGLSH</td>\n      <td>NaN</td>\n    </tr>\n    <tr>\n      <th>1</th>\n      <td>1</td>\n      <td>t2_raxhwbba</td>\n      <td>2: Band of Thieves. Sly 3: Honour Among Thieve...</td>\n      <td>United Kingdom</td>\n      <td>2: Band of Thieves. Sly 3: Honour Among Thieve...</td>\n      <td>1500</td>\n      <td>1481</td>\n      <td>19</td>\n      <td>en</td>\n      <td>1</td>\n      <td>2 Band of Thieves Sly 3 Honour Among Thieves R...</td>\n      <td>2: Band of Thieves. Sly 3: Honor Among Thieves...</td>\n    </tr>\n    <tr>\n      <th>2</th>\n      <td>2</td>\n      <td>t2_3fw68gzc</td>\n      <td>фалшиви и ги забраниха. След ден затвориха и л...</td>\n      <td>Bulgaria</td>\n      <td>фалшиви и ги забраниха. След ден затвориха и л...</td>\n      <td>1500</td>\n      <td>1493</td>\n      <td>7</td>\n      <td>en</td>\n      <td>1</td>\n      <td>фалшиви и ги забраниха След ден затвориха и ла...</td>\n      <td>Фалшиви и ги забраниха. След ден затвориха и л...</td>\n    </tr>\n    <tr>\n      <th>3</th>\n      <td>3</td>\n      <td>t2_qxtt1jsp</td>\n      <td>it the Critical Drinker who did it? Cartoon? L...</td>\n      <td>Portugal</td>\n      <td>it the Critical Drinker who did it? Cartoon? L...</td>\n      <td>539</td>\n      <td>521</td>\n      <td>18</td>\n      <td>en</td>\n      <td>1</td>\n      <td>it the Critical Drinker who did it Cartoon Lol...</td>\n      <td>It the Critical Drinker who did it? Cartoon? L...</td>\n    </tr>\n    <tr>\n      <th>4</th>\n      <td>4</td>\n      <td>t2_10jg8ipm</td>\n      <td>showarok nolo'atli Won apa-te kwo'atli sho asi...</td>\n      <td>Spain</td>\n      <td>showarok nolo'atli Won apa-te kwo'atli sho asi...</td>\n      <td>1500</td>\n      <td>1489</td>\n      <td>11</td>\n      <td>en</td>\n      <td>1</td>\n      <td>showarok nolo atli Won apa te kwo atli sho asi...</td>\n      <td>Showarok solo'tali Won apart quo'tali who Asia...</td>\n    </tr>\n    <tr>\n      <th>...</th>\n      <td>...</td>\n      <td>...</td>\n      <td>...</td>\n      <td>...</td>\n      <td>...</td>\n      <td>...</td>\n      <td>...</td>\n      <td>...</td>\n      <td>...</td>\n      <td>...</td>\n      <td>...</td>\n      <td>...</td>\n    </tr>\n    <tr>\n      <th>15346</th>\n      <td>15346</td>\n      <td>t2_422adf8q</td>\n      <td>Wenn bis zum Ausbruch der hypothetischen Epsil...</td>\n      <td>Austria</td>\n      <td>Wenn bis zum Ausbruch der hypothetischen Epsil...</td>\n      <td>1500</td>\n      <td>1489</td>\n      <td>11</td>\n      <td>de</td>\n      <td>0</td>\n      <td>RPLCMNT_NNGLSH</td>\n      <td>NaN</td>\n    </tr>\n    <tr>\n      <th>15347</th>\n      <td>15347</td>\n      <td>t2_ofl1u5f</td>\n      <td>was handed to them, that is then dropped by th...</td>\n      <td>Romania</td>\n      <td>was handed to them, that is then dropped by th...</td>\n      <td>1500</td>\n      <td>1484</td>\n      <td>16</td>\n      <td>en</td>\n      <td>1</td>\n      <td>was handed to them that is then dropped by the...</td>\n      <td>Was handed to them, that is then dropped by th...</td>\n    </tr>\n    <tr>\n      <th>15348</th>\n      <td>15348</td>\n      <td>t2_3edl7</td>\n      <td>experience this when you do assembly programmi...</td>\n      <td>Germany</td>\n      <td>experience this when you do assembly programmi...</td>\n      <td>1500</td>\n      <td>1465</td>\n      <td>35</td>\n      <td>en</td>\n      <td>1</td>\n      <td>experience this when you do assembly programmi...</td>\n      <td>Experience this when you do assembly programmi...</td>\n    </tr>\n    <tr>\n      <th>15349</th>\n      <td>15349</td>\n      <td>t2_au7t1</td>\n      <td>us for a while now (such as [this](url from 20...</td>\n      <td>United Kingdom</td>\n      <td>us for a while now (such as [this]( from 2018)...</td>\n      <td>1500</td>\n      <td>1481</td>\n      <td>19</td>\n      <td>en</td>\n      <td>1</td>\n      <td>us for a while now such as this from 2018 I ve...</td>\n      <td>Us for a while now (such as [this](from 2018)....</td>\n    </tr>\n    <tr>\n      <th>15350</th>\n      <td>15350</td>\n      <td>t2_ku2v4</td>\n      <td>better thing is just to tilt it a bit to the s...</td>\n      <td>Ireland</td>\n      <td>better thing is just to tilt it a bit to the s...</td>\n      <td>1500</td>\n      <td>1498</td>\n      <td>2</td>\n      <td>en</td>\n      <td>1</td>\n      <td>better thing is just to tilt it a bit to the s...</td>\n      <td>Better thing is just to tilt it a bit to the s...</td>\n    </tr>\n  </tbody>\n</table>\n<p>15351 rows × 12 columns</p>\n</div>"
     },
     "execution_count": 4,
     "metadata": {},
     "output_type": "execute_result"
    }
   ],
   "source": [
    "# df"
   ],
   "metadata": {
    "collapsed": false,
    "ExecuteTime": {
     "end_time": "2024-12-26T10:24:43.548476100Z",
     "start_time": "2024-12-26T10:24:43.532671100Z"
    }
   }
  },
  {
   "cell_type": "code",
   "execution_count": 42,
   "outputs": [
    {
     "name": "stdout",
     "output_type": "stream",
     "text": [
      "Index(['Unnamed: 0', 'auhtor_ID', 'post', 'nationality', 'cleaned_text',\n",
      "       'original_word_count', 'cleaned_word_count', 'word_count_difference'],\n",
      "      dtype='object')\n"
     ]
    }
   ],
   "source": [
    "#print(df.columns)"
   ],
   "metadata": {
    "collapsed": false,
    "ExecuteTime": {
     "end_time": "2024-12-23T17:04:15.470481600Z",
     "start_time": "2024-12-23T17:04:15.452134800Z"
    }
   }
  }
 ],
 "metadata": {
  "kernelspec": {
   "display_name": "Python 3",
   "language": "python",
   "name": "python3"
  },
  "language_info": {
   "codemirror_mode": {
    "name": "ipython",
    "version": 2
   },
   "file_extension": ".py",
   "mimetype": "text/x-python",
   "name": "python",
   "nbconvert_exporter": "python",
   "pygments_lexer": "ipython2",
   "version": "2.7.6"
  }
 },
 "nbformat": 4,
 "nbformat_minor": 0
}
